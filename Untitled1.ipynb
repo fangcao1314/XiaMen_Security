{
 "cells": [
  {
   "cell_type": "code",
   "execution_count": 2,
   "metadata": {},
   "outputs": [],
   "source": [
    "import pandas as pd\n",
    "import numpy as np"
   ]
  },
  {
   "cell_type": "code",
   "execution_count": 3,
   "metadata": {},
   "outputs": [],
   "source": [
    "train_x = pd.read_csv('train.csv',index_col = 'id')\n",
    "train_y = pd.read_csv('train_target.csv',index_col = 'id')\n",
    "trainxy = pd.merge(train_y,train_x,on = 'id')"
   ]
  },
  {
   "cell_type": "code",
   "execution_count": 12,
   "metadata": {},
   "outputs": [],
   "source": [
    "trainxy['age_bin'] = pd.cut(trainxy['age'],20,labels = False)"
   ]
  },
  {
   "cell_type": "code",
   "execution_count": 22,
   "metadata": {
    "scrolled": true
   },
   "outputs": [
    {
     "data": {
      "text/plain": [
       "id\n",
       "1         0\n",
       "2         0\n",
       "3         0\n",
       "4         0\n",
       "5         4\n",
       "6         0\n",
       "7         0\n",
       "8         0\n",
       "9         0\n",
       "10        0\n",
       "11        0\n",
       "12        0\n",
       "13        0\n",
       "14        0\n",
       "15        0\n",
       "16        0\n",
       "17        0\n",
       "18        0\n",
       "19        0\n",
       "20        0\n",
       "21        0\n",
       "22        0\n",
       "23        3\n",
       "24        0\n",
       "25        0\n",
       "26        0\n",
       "27        0\n",
       "28        0\n",
       "29        0\n",
       "30        0\n",
       "         ..\n",
       "132000    0\n",
       "132001    0\n",
       "132002    0\n",
       "132003    0\n",
       "132004    0\n",
       "132005    0\n",
       "132006    0\n",
       "132007    0\n",
       "132008    9\n",
       "132009    0\n",
       "132010    0\n",
       "132011    0\n",
       "132012    0\n",
       "132013    0\n",
       "132014    0\n",
       "132015    0\n",
       "132016    0\n",
       "132017    0\n",
       "132018    0\n",
       "132019    0\n",
       "132020    0\n",
       "132021    0\n",
       "132022    0\n",
       "132023    0\n",
       "132024    0\n",
       "132025    0\n",
       "132026    0\n",
       "132027    0\n",
       "132028    0\n",
       "132029    0\n",
       "Name: ethnic, Length: 132029, dtype: int64"
      ]
     },
     "execution_count": 22,
     "metadata": {},
     "output_type": "execute_result"
    }
   ],
   "source": [
    "trainxy['ethnic']"
   ]
  },
  {
   "cell_type": "code",
   "execution_count": 18,
   "metadata": {
    "scrolled": true
   },
   "outputs": [
    {
     "data": {
      "text/plain": [
       "['target',\n",
       " 'certId',\n",
       " 'loanProduct',\n",
       " 'gender',\n",
       " 'age',\n",
       " 'dist',\n",
       " 'edu',\n",
       " 'job',\n",
       " 'lmt',\n",
       " 'basicLevel',\n",
       " 'x_0',\n",
       " 'x_1',\n",
       " 'x_2',\n",
       " 'x_3',\n",
       " 'x_4',\n",
       " 'x_5',\n",
       " 'x_6',\n",
       " 'x_7',\n",
       " 'x_8',\n",
       " 'x_9',\n",
       " 'x_10',\n",
       " 'x_11',\n",
       " 'x_12',\n",
       " 'x_13',\n",
       " 'x_14',\n",
       " 'x_15',\n",
       " 'x_16',\n",
       " 'x_17',\n",
       " 'x_18',\n",
       " 'x_19',\n",
       " 'x_20',\n",
       " 'x_21',\n",
       " 'x_22',\n",
       " 'x_23',\n",
       " 'x_24',\n",
       " 'x_25',\n",
       " 'x_26',\n",
       " 'x_27',\n",
       " 'x_28',\n",
       " 'x_29',\n",
       " 'x_30',\n",
       " 'x_31',\n",
       " 'x_32',\n",
       " 'x_33',\n",
       " 'x_34',\n",
       " 'x_35',\n",
       " 'x_36',\n",
       " 'x_37',\n",
       " 'x_38',\n",
       " 'x_39',\n",
       " 'x_40',\n",
       " 'x_41',\n",
       " 'x_42',\n",
       " 'x_43',\n",
       " 'x_44',\n",
       " 'x_45',\n",
       " 'x_46',\n",
       " 'x_47',\n",
       " 'x_48',\n",
       " 'x_49',\n",
       " 'x_50',\n",
       " 'x_51',\n",
       " 'x_52',\n",
       " 'x_53',\n",
       " 'x_54',\n",
       " 'x_55',\n",
       " 'x_56',\n",
       " 'x_57',\n",
       " 'x_58',\n",
       " 'x_59',\n",
       " 'x_60',\n",
       " 'x_61',\n",
       " 'x_62',\n",
       " 'x_63',\n",
       " 'x_64',\n",
       " 'x_65',\n",
       " 'x_66',\n",
       " 'x_67',\n",
       " 'x_68',\n",
       " 'x_69',\n",
       " 'x_70',\n",
       " 'x_71',\n",
       " 'x_72',\n",
       " 'x_73',\n",
       " 'x_74',\n",
       " 'x_75',\n",
       " 'x_76',\n",
       " 'x_77',\n",
       " 'x_78',\n",
       " 'certValidBegin',\n",
       " 'certValidStop',\n",
       " 'bankCard',\n",
       " 'ethnic',\n",
       " 'residentAddr',\n",
       " 'highestEdu',\n",
       " 'linkRela',\n",
       " 'setupHour',\n",
       " 'weekday',\n",
       " 'ncloseCreditCard',\n",
       " 'unpayIndvLoan',\n",
       " 'unpayOtherLoan',\n",
       " 'unpayNormalLoan',\n",
       " '5yearBadloan',\n",
       " 'isNew',\n",
       " 'highestEdu_fen',\n",
       " 'age_bin']"
      ]
     },
     "execution_count": 18,
     "metadata": {},
     "output_type": "execute_result"
    }
   ],
   "source": [
    "list(trainxy.columns)"
   ]
  },
  {
   "cell_type": "code",
   "execution_count": null,
   "metadata": {},
   "outputs": [],
   "source": []
  }
 ],
 "metadata": {
  "kernelspec": {
   "display_name": "Python 3",
   "language": "python",
   "name": "python3"
  },
  "language_info": {
   "codemirror_mode": {
    "name": "ipython",
    "version": 3
   },
   "file_extension": ".py",
   "mimetype": "text/x-python",
   "name": "python",
   "nbconvert_exporter": "python",
   "pygments_lexer": "ipython3",
   "version": "3.7.1"
  }
 },
 "nbformat": 4,
 "nbformat_minor": 2
}
